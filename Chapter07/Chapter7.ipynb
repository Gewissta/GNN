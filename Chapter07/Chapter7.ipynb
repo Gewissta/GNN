{
 "cells": [
  {
   "cell_type": "markdown",
   "metadata": {
    "id": "UvkfB7BxSuaB"
   },
   "source": [
    "# Графовые нейронные сети с вниманием"
   ]
  },
  {
   "cell_type": "code",
   "execution_count": 1,
   "metadata": {
    "colab": {
     "base_uri": "https://localhost:8080/"
    },
    "id": "uWA4OPhqiCOb",
    "outputId": "f5a1ee9d-4dfe-49e5-8f4d-10359d62e931"
   },
   "outputs": [
    {
     "data": {
      "text/plain": [
       "array([[1, 1, 1, 1],\n",
       "       [1, 1, 0, 0],\n",
       "       [1, 0, 1, 1],\n",
       "       [1, 0, 1, 1]])"
      ]
     },
     "execution_count": 1,
     "metadata": {},
     "output_type": "execute_result"
    }
   ],
   "source": [
    "import numpy as np\n",
    "np.random.seed(0)\n",
    "\n",
    "A = np.array([\n",
    "    [1, 1, 1, 1],\n",
    "    [1, 1, 0, 0],\n",
    "    [1, 0, 1, 1],\n",
    "    [1, 0, 1, 1]\n",
    "])\n",
    "A"
   ]
  },
  {
   "cell_type": "code",
   "execution_count": 2,
   "metadata": {
    "colab": {
     "base_uri": "https://localhost:8080/"
    },
    "id": "nJ4wYhV3ibwY",
    "outputId": "ce79d4ac-f07c-410e-9c27-181cfa00a267"
   },
   "outputs": [
    {
     "data": {
      "text/plain": [
       "array([[ 0.09762701,  0.43037873,  0.20552675,  0.08976637],\n",
       "       [-0.1526904 ,  0.29178823, -0.12482558,  0.783546  ],\n",
       "       [ 0.92732552, -0.23311696,  0.58345008,  0.05778984],\n",
       "       [ 0.13608912,  0.85119328, -0.85792788, -0.8257414 ]])"
      ]
     },
     "execution_count": 2,
     "metadata": {},
     "output_type": "execute_result"
    }
   ],
   "source": [
    "X = np.random.uniform(-1, 1, (4, 4))\n",
    "X"
   ]
  },
  {
   "cell_type": "code",
   "execution_count": 3,
   "metadata": {
    "colab": {
     "base_uri": "https://localhost:8080/"
    },
    "id": "8ikFGBdJiRph",
    "outputId": "992a6cd0-fdbe-41c6-9d1b-9589bfe2dc0e"
   },
   "outputs": [
    {
     "data": {
      "text/plain": [
       "array([[-0.95956321,  0.66523969,  0.5563135 ,  0.7400243 ],\n",
       "       [ 0.95723668,  0.59831713, -0.07704128,  0.56105835]])"
      ]
     },
     "execution_count": 3,
     "metadata": {},
     "output_type": "execute_result"
    }
   ],
   "source": [
    "W = np.random.uniform(-1, 1, (2, 4))\n",
    "W"
   ]
  },
  {
   "cell_type": "code",
   "execution_count": 4,
   "metadata": {
    "colab": {
     "base_uri": "https://localhost:8080/"
    },
    "id": "UPov5b8Cisxx",
    "outputId": "cc5766d0-063a-408d-a297-c27aa14cac72"
   },
   "outputs": [
    {
     "data": {
      "text/plain": [
       "array([[-0.76345115,  0.27984204, -0.71329343,  0.88933783]])"
      ]
     },
     "execution_count": 4,
     "metadata": {},
     "output_type": "execute_result"
    }
   ],
   "source": [
    "W_att = np.random.uniform(-1, 1, (1, 4))\n",
    "W_att"
   ]
  },
  {
   "cell_type": "code",
   "execution_count": 5,
   "metadata": {
    "colab": {
     "base_uri": "https://localhost:8080/"
    },
    "id": "PBglLK7OjPs6",
    "outputId": "0e38b24f-503b-4e80-9251-38bae4a3ef56"
   },
   "outputs": [
    {
     "data": {
      "text/plain": [
       "(array([0, 0, 0, 0, 1, 1, 2, 2, 2, 3, 3, 3]),\n",
       " array([0, 1, 2, 3, 0, 1, 0, 2, 3, 0, 2, 3]))"
      ]
     },
     "execution_count": 5,
     "metadata": {},
     "output_type": "execute_result"
    }
   ],
   "source": [
    "connections = np.where(A > 0)\n",
    "connections"
   ]
  },
  {
   "cell_type": "code",
   "execution_count": 6,
   "metadata": {
    "colab": {
     "base_uri": "https://localhost:8080/"
    },
    "id": "Dr_hpZKK_v0Z",
    "outputId": "540b7ec3-b6b5-4703-fb22-26d19f4282ba"
   },
   "outputs": [
    {
     "data": {
      "text/plain": [
       "array([[ 0.37339233,  0.38548525,  0.37339233,  0.38548525],\n",
       "       [ 0.37339233,  0.38548525,  0.85102612,  0.47765279],\n",
       "       [ 0.37339233,  0.38548525, -0.67755906,  0.73566587],\n",
       "       [ 0.37339233,  0.38548525, -0.65268413,  0.24235977],\n",
       "       [ 0.85102612,  0.47765279,  0.37339233,  0.38548525],\n",
       "       [ 0.85102612,  0.47765279,  0.85102612,  0.47765279],\n",
       "       [-0.67755906,  0.73566587,  0.37339233,  0.38548525],\n",
       "       [-0.67755906,  0.73566587, -0.67755906,  0.73566587],\n",
       "       [-0.67755906,  0.73566587, -0.65268413,  0.24235977],\n",
       "       [-0.65268413,  0.24235977,  0.37339233,  0.38548525],\n",
       "       [-0.65268413,  0.24235977, -0.67755906,  0.73566587],\n",
       "       [-0.65268413,  0.24235977, -0.65268413,  0.24235977]])"
      ]
     },
     "execution_count": 6,
     "metadata": {},
     "output_type": "execute_result"
    }
   ],
   "source": [
    "np.concatenate(\n",
    "    [\n",
    "        (X @ W.T)[connections[0]], \n",
    "        (X @ W.T)[connections[1]]\n",
    "    ], axis=1)"
   ]
  },
  {
   "cell_type": "code",
   "execution_count": 7,
   "metadata": {
    "colab": {
     "base_uri": "https://localhost:8080/"
    },
    "id": "1JqJVr1uibY5",
    "outputId": "85874ff9-ab68-4d3b-89cd-dc1e6ec28e8a"
   },
   "outputs": [
    {
     "data": {
      "text/plain": [
       "array([[-0.1007035 , -0.35942847,  0.96036209,  0.50390318, -0.43956122,\n",
       "        -0.69828618,  0.79964181,  1.8607074 ,  1.40424849,  0.64260322,\n",
       "         1.70366881,  1.2472099 ]])"
      ]
     },
     "execution_count": 7,
     "metadata": {},
     "output_type": "execute_result"
    }
   ],
   "source": [
    "a = W_att @ np.concatenate(\n",
    "    [\n",
    "        (X @ W.T)[connections[0]], \n",
    "        (X @ W.T)[connections[1]]\n",
    "    ], axis=1).T\n",
    "a"
   ]
  },
  {
   "cell_type": "code",
   "execution_count": 8,
   "metadata": {
    "colab": {
     "base_uri": "https://localhost:8080/"
    },
    "id": "sdfcccfElpW1",
    "outputId": "556496ea-c83b-4630-b59b-c4fff3525bf8"
   },
   "outputs": [
    {
     "data": {
      "text/plain": [
       "array([[-0.0201407 , -0.07188569,  0.96036209,  0.50390318, -0.08791224,\n",
       "        -0.13965724,  0.79964181,  1.8607074 ,  1.40424849,  0.64260322,\n",
       "         1.70366881,  1.2472099 ]])"
      ]
     },
     "execution_count": 8,
     "metadata": {},
     "output_type": "execute_result"
    }
   ],
   "source": [
    "def leaky_relu(x, alpha=0.2):\n",
    "    return np.maximum(alpha*x, x)\n",
    "\n",
    "e = leaky_relu(a)\n",
    "e"
   ]
  },
  {
   "cell_type": "code",
   "execution_count": 9,
   "metadata": {
    "colab": {
     "base_uri": "https://localhost:8080/"
    },
    "id": "HRhBAlqgl4Lg",
    "outputId": "b23c654f-388b-47ac-f8a4-89968d10ada8"
   },
   "outputs": [
    {
     "data": {
      "text/plain": [
       "array([[-0.0201407 , -0.07188569,  0.96036209,  0.50390318],\n",
       "       [-0.08791224, -0.13965724,  0.        ,  0.        ],\n",
       "       [ 0.79964181,  0.        ,  1.8607074 ,  1.40424849],\n",
       "       [ 0.64260322,  0.        ,  1.70366881,  1.2472099 ]])"
      ]
     },
     "execution_count": 9,
     "metadata": {},
     "output_type": "execute_result"
    }
   ],
   "source": [
    "E = np.zeros(A.shape)\n",
    "E[connections[0], connections[1]] = e[0]\n",
    "E"
   ]
  },
  {
   "cell_type": "code",
   "execution_count": 10,
   "metadata": {
    "colab": {
     "base_uri": "https://localhost:8080/"
    },
    "id": "A_4cc3Mal_bZ",
    "outputId": "077350d5-9773-44ee-c011-31f241f90197"
   },
   "outputs": [
    {
     "data": {
      "text/plain": [
       "array([[0.15862414, 0.15062488, 0.42285965, 0.26789133],\n",
       "       [0.24193418, 0.22973368, 0.26416607, 0.26416607],\n",
       "       [0.16208847, 0.07285714, 0.46834625, 0.29670814],\n",
       "       [0.16010498, 0.08420266, 0.46261506, 0.2930773 ]])"
      ]
     },
     "execution_count": 10,
     "metadata": {},
     "output_type": "execute_result"
    }
   ],
   "source": [
    "def softmax2D(x, axis):\n",
    "    e = np.exp(x - np.expand_dims(np.max(x, axis=axis), axis))\n",
    "    sum = np.expand_dims(np.sum(e, axis=axis), axis)\n",
    "    return e / sum\n",
    "\n",
    "W_alpha = softmax2D(E, 1)\n",
    "W_alpha"
   ]
  },
  {
   "cell_type": "code",
   "execution_count": 11,
   "metadata": {
    "colab": {
     "base_uri": "https://localhost:8080/"
    },
    "id": "QeADRiD7mVYc",
    "outputId": "6495dab3-c582-4658-e750-0c4700feddf8"
   },
   "outputs": [
    {
     "data": {
      "text/plain": [
       "array([[-1.10126376,  1.99749693],\n",
       "       [-0.33950544,  0.97045933],\n",
       "       [-1.03570438,  1.53614075],\n",
       "       [-1.03570438,  1.53614075]])"
      ]
     },
     "execution_count": 11,
     "metadata": {},
     "output_type": "execute_result"
    }
   ],
   "source": [
    "H = A.T @ W_alpha @ X @ W.T\n",
    "H"
   ]
  },
  {
   "cell_type": "code",
   "execution_count": 12,
   "metadata": {
    "id": "LHWS5blDTCVv"
   },
   "outputs": [],
   "source": [
    "from torch_geometric.datasets import Planetoid\n",
    "\n",
    "# импортируем набор Cora с помощью PyTorch Geometric\n",
    "dataset = Planetoid(root=\".\", name=\"Cora\")\n",
    "data = dataset[0]"
   ]
  },
  {
   "cell_type": "code",
   "execution_count": 13,
   "metadata": {
    "colab": {
     "base_uri": "https://localhost:8080/"
    },
    "id": "45iaJfMLTJKX",
    "outputId": "37ee3c34-bd0a-4344-841b-884766b38712"
   },
   "outputs": [
    {
     "name": "stdout",
     "output_type": "stream",
     "text": [
      "GAT(\n",
      "  (gat1): GATv2Conv(1433, 32, heads=8)\n",
      "  (gat2): GATv2Conv(256, 7, heads=1)\n",
      ")\n",
      "Эпоха   0:\n",
      "| Функция потерь на обуч. выборке: 1.969 | Правильность на обуч. выборке: 15.00% \n",
      "| Функция потерь на валид. выборке: 1.96 | Правильность на валид. выборке: 11.80%\n",
      "Эпоха  20:\n",
      "| Функция потерь на обуч. выборке: 0.259 | Правильность на обуч. выборке: 96.43% \n",
      "| Функция потерь на валид. выборке: 1.10 | Правильность на валид. выборке: 67.60%\n",
      "Эпоха  40:\n",
      "| Функция потерь на обуч. выборке: 0.163 | Правильность на обуч. выборке: 98.57% \n",
      "| Функция потерь на валид. выборке: 0.90 | Правильность на валид. выборке: 70.80%\n",
      "Эпоха  60:\n",
      "| Функция потерь на обуч. выборке: 0.205 | Правильность на обуч. выборке: 98.57% \n",
      "| Функция потерь на валид. выборке: 0.96 | Правильность на валид. выборке: 69.00%\n",
      "Эпоха  80:\n",
      "| Функция потерь на обуч. выборке: 0.130 | Правильность на обуч. выборке: 100.00% \n",
      "| Функция потерь на валид. выборке: 0.91 | Правильность на валид. выборке: 70.80%\n",
      "Эпоха 100:\n",
      "| Функция потерь на обуч. выборке: 0.148 | Правильность на обуч. выборке: 99.29% \n",
      "| Функция потерь на валид. выборке: 0.90 | Правильность на валид. выборке: 73.00%\n",
      "Правильность GAT на тесте (Cora): 82.00%\n"
     ]
    }
   ],
   "source": [
    "import torch\n",
    "torch.manual_seed(1)\n",
    "import torch.nn.functional as F\n",
    "from torch_geometric.nn import GATv2Conv, GCNConv\n",
    "from torch.nn import Linear, Dropout\n",
    "\n",
    "\n",
    "def accuracy(y_pred, y_true):\n",
    "    \"\"\"Calculate accuracy.\"\"\"\n",
    "    return torch.sum(y_pred == y_true) / len(y_true)\n",
    "\n",
    "\n",
    "class GAT(torch.nn.Module):\n",
    "    def __init__(self, dim_in, dim_h, dim_out, heads=8):\n",
    "        super().__init__()\n",
    "        self.gat1 = GATv2Conv(dim_in, dim_h, heads=heads)\n",
    "        self.gat2 = GATv2Conv(dim_h*heads, dim_out, heads=1)\n",
    "\n",
    "    def forward(self, x, edge_index):\n",
    "        h = F.dropout(x, p=0.6, training=self.training)\n",
    "        h = self.gat1(h, edge_index)\n",
    "        h = F.elu(h)\n",
    "        h = F.dropout(h, p=0.6, training=self.training)\n",
    "        h = self.gat2(h, edge_index)\n",
    "        return F.log_softmax(h, dim=1)\n",
    "\n",
    "    def fit(self, data, epochs):\n",
    "        criterion = torch.nn.CrossEntropyLoss()\n",
    "        optimizer = torch.optim.Adam(self.parameters(), lr=0.01, \n",
    "                                     weight_decay=0.01)\n",
    "\n",
    "        self.train()\n",
    "        for epoch in range(epochs+1):\n",
    "            optimizer.zero_grad()\n",
    "            out = self(data.x, data.edge_index)\n",
    "            loss = criterion(out[data.train_mask], \n",
    "                             data.y[data.train_mask])\n",
    "            acc = accuracy(out[data.train_mask].argmax(dim=1), \n",
    "                           data.y[data.train_mask])\n",
    "            loss.backward()\n",
    "            optimizer.step()\n",
    "\n",
    "            if(epoch % 20 == 0):\n",
    "                val_loss = criterion(out[data.val_mask], \n",
    "                                     data.y[data.val_mask])\n",
    "                val_acc = accuracy(out[data.val_mask].argmax(dim=1), \n",
    "                                   data.y[data.val_mask])\n",
    "                print(f'Эпоха {epoch:>3}:\\n| Функция потерь на обуч. выборке: '\n",
    "                      f'{loss:.3f} | Правильность на обуч. выборке: '\n",
    "                      f'{acc*100:>5.2f}% \\n| Функция потерь на валид. '\n",
    "                      f'выборке: {val_loss:.2f} | Правильность на валид. '\n",
    "                      f'выборке: {val_acc*100:.2f}%')\n",
    "\n",
    "    @torch.no_grad()\n",
    "    def test(self, data):\n",
    "        self.eval()\n",
    "        out = self(data.x, data.edge_index)\n",
    "        acc = accuracy(out.argmax(dim=1)[data.test_mask], \n",
    "                       data.y[data.test_mask])\n",
    "        return acc\n",
    "\n",
    "# создаем модель GAT\n",
    "gat = GAT(dataset.num_features, 32, dataset.num_classes)\n",
    "print(gat)\n",
    "\n",
    "# обучаем\n",
    "gat.fit(data, epochs=100)\n",
    "\n",
    "# тестируем\n",
    "acc = gat.test(data)\n",
    "print(f'Правильность GAT на тесте (Cora): {acc*100:.2f}%')"
   ]
  },
  {
   "cell_type": "code",
   "execution_count": 14,
   "metadata": {
    "colab": {
     "base_uri": "https://localhost:8080/"
    },
    "id": "nDT78dtSLCb2",
    "outputId": "e31a7490-cd52-406b-a901-fe51e27cb5a0"
   },
   "outputs": [
    {
     "data": {
      "text/plain": [
       "Data(x=[3327, 3703], edge_index=[2, 9104], y=[3327], train_mask=[3327], val_mask=[3327], test_mask=[3327])"
      ]
     },
     "execution_count": 14,
     "metadata": {},
     "output_type": "execute_result"
    }
   ],
   "source": [
    "dataset = Planetoid(root=\".\", name=\"CiteSeer\")\n",
    "data = dataset[0]\n",
    "data"
   ]
  },
  {
   "cell_type": "code",
   "execution_count": 15,
   "metadata": {
    "colab": {
     "base_uri": "https://localhost:8080/",
     "height": 1000
    },
    "id": "4n1Ke07DQ1RZ",
    "outputId": "5aee6584-4ce4-42fe-e6f1-277a2e3bdb96"
   },
   "outputs": [
    {
     "data": {
      "text/plain": [
       "<BarContainer object of 32 artists>"
      ]
     },
     "execution_count": 15,
     "metadata": {},
     "output_type": "execute_result"
    },
    {
     "data": {
      "image/png": "[encoded data removed]",
      "text/plain": [
       "<Figure size 640x480 with 1 Axes>"
      ]
     },
     "metadata": {},
     "output_type": "display_data"
    }
   ],
   "source": [
    "import matplotlib.pyplot as plt\n",
    "from torch_geometric.utils import degree\n",
    "from collections import Counter\n",
    "\n",
    "# создаем список степеней\n",
    "degrees = degree(dataset[0].edge_index[0]).numpy()\n",
    "\n",
    "# вычисляем количество узлов для каждой степени\n",
    "numbers = Counter(degrees)\n",
    "\n",
    "# столбиковая диаграмма\n",
    "fig, ax = plt.subplots()\n",
    "ax.set_xlabel('Степень узла')\n",
    "ax.set_ylabel('Количество узлов')\n",
    "plt.bar(numbers.keys(), numbers.values())"
   ]
  },
  {
   "cell_type": "code",
   "execution_count": 16,
   "metadata": {
    "colab": {
     "base_uri": "https://localhost:8080/"
    },
    "id": "rW0bm5aoL_uf",
    "outputId": "b362b613-38dd-4e29-f40d-85a9bc3d742a"
   },
   "outputs": [
    {
     "name": "stdout",
     "output_type": "stream",
     "text": [
      "GAT(\n",
      "  (gat1): GATv2Conv(3703, 16, heads=8)\n",
      "  (gat2): GATv2Conv(128, 6, heads=1)\n",
      ")\n",
      "Эпоха   0:\n",
      "| Функция потерь на обуч. выборке: 1.803 | Правильность на обуч. выборке: 15.83% \n",
      "| Функция потерь на валид. выборке: 1.81 | Правильность на валид. выборке: 16.60%\n",
      "Эпоха  20:\n",
      "| Функция потерь на обуч. выборке: 0.175 | Правильность на обуч. выборке: 96.67% \n",
      "| Функция потерь на валид. выборке: 1.15 | Правильность на валид. выборке: 60.40%\n",
      "Эпоха  40:\n",
      "| Функция потерь на обуч. выборке: 0.134 | Правильность на обуч. выборке: 97.50% \n",
      "| Функция потерь на валид. выборке: 1.22 | Правильность на валид. выборке: 62.00%\n",
      "Эпоха  60:\n",
      "| Функция потерь на обуч. выборке: 0.135 | Правильность на обуч. выборке: 97.50% \n",
      "| Функция потерь на валид. выборке: 1.21 | Правильность на валид. выборке: 61.60%\n",
      "Эпоха  80:\n",
      "| Функция потерь на обуч. выборке: 0.111 | Правильность на обуч. выборке: 100.00% \n",
      "| Функция потерь на валид. выборке: 1.15 | Правильность на валид. выборке: 63.60%\n",
      "Эпоха 100:\n",
      "| Функция потерь на обуч. выборке: 0.099 | Правильность на обуч. выборке: 100.00% \n",
      "| Функция потерь на валид. выборке: 1.24 | Правильность на валид. выборке: 58.60%\n",
      "Правильность GAT на тесте (CiteSeer): 67.40%\n"
     ]
    }
   ],
   "source": [
    "# создаем модель GAT\n",
    "gat = GAT(dataset.num_features, 16, dataset.num_classes)\n",
    "print(gat)\n",
    "\n",
    "# обучаем\n",
    "gat.fit(data, epochs=100)\n",
    "\n",
    "# тестируем\n",
    "acc = gat.test(data)\n",
    "print(f'Правильность GAT на тесте (CiteSeer): {acc*100:.2f}%')"
   ]
  },
  {
   "cell_type": "code",
   "execution_count": 17,
   "metadata": {
    "colab": {
     "base_uri": "https://localhost:8080/",
     "height": 1000
    },
    "id": "ciQljfVbRF8Y",
    "outputId": "f3891d4d-c993-4597-8a06-32ebb9c32ecf"
   },
   "outputs": [
    {
     "data": {
      "image/png": "[encoded data removed]",
      "text/plain": [
       "<Figure size 640x480 with 1 Axes>"
      ]
     },
     "metadata": {},
     "output_type": "display_data"
    }
   ],
   "source": [
    "# получаем результаты\n",
    "out = gat(data.x, data.edge_index)\n",
    "\n",
    "# создаем список степеней\n",
    "degrees = degree(data.edge_index[0]).numpy()\n",
    "\n",
    "# здесь храним оценки правильности \n",
    "# и размеры степеней\n",
    "accuracies = []\n",
    "sizes = []\n",
    "\n",
    "# правильность для степеней в диапазоне от 0 до 5\n",
    "for i in range(0, 6):\n",
    "    mask = np.where(degrees == i)[0]\n",
    "    accuracies.append(accuracy(out.argmax(dim=1)[mask], \n",
    "                               data.y[mask]))\n",
    "    sizes.append(len(mask))\n",
    "\n",
    "# правильность для степеней > 5\n",
    "mask = np.where(degrees > 5)[0]\n",
    "accuracies.append(accuracy(out.argmax(dim=1)[mask], \n",
    "                           data.y[mask]))\n",
    "sizes.append(len(mask))\n",
    "\n",
    "# столбиковая диаграмма\n",
    "fig, ax = plt.subplots()\n",
    "ax.set_xlabel('Степень узла')\n",
    "ax.set_ylabel('Оценка правильности')\n",
    "plt.bar(['0','1','2','3','4','5','6+'], accuracies)\n",
    "for i in range(0, 7):\n",
    "    plt.text(i, accuracies[i], f'{accuracies[i]*100:.2f}%', \n",
    "             ha='center', color='black')\n",
    "for i in range(0, 7):\n",
    "    plt.text(i, accuracies[i]//2, sizes[i], \n",
    "             ha='center', color='white')"
   ]
  }
 ],
 "metadata": {
  "colab": {
   "provenance": []
  },
  "kernelspec": {
   "display_name": "Python 3 (ipykernel)",
   "language": "python",
   "name": "python3"
  },
  "language_info": {
   "codemirror_mode": {
    "name": "ipython",
    "version": 3
   },
   "file_extension": ".py",
   "mimetype": "text/x-python",
   "name": "python",
   "nbconvert_exporter": "python",
   "pygments_lexer": "ipython3",
   "version": "3.11.7"
  },
  "vscode": {
   "interpreter": {
    "hash": "3556630122da5213751af4465d61fcf5a52cd22515d400aee51118aaa1721248"
   }
  }
 },
 "nbformat": 4,
 "nbformat_minor": 4
}
