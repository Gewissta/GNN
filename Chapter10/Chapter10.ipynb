{
 "cells": [
  {
   "cell_type": "markdown",
   "metadata": {
    "id": "4Qs9wmH6Jwt5"
   },
   "source": [
    "# Прогнозирование связей с помощью графовых нейронных сетей"
   ]
  },
  {
   "cell_type": "code",
   "execution_count": 1,
   "metadata": {
    "colab": {
     "base_uri": "https://localhost:8080/"
    },
    "id": "6muoc6CEld7m",
    "outputId": "8e544430-ab0f-475f-eb1d-6b0e302c8b4d"
   },
   "outputs": [],
   "source": [
    "import torch\n",
    "\n",
    "torch.backends.cudnn.deterministic = True\n",
    "torch.backends.cudnn.benchmark = False\n",
    "\n",
    "def set_seed():\n",
    "    \"\"\"\n",
    "    Задает стартовое значение генератора псевдослучайных\n",
    "    чисел для воспроизводимости.\n",
    "    \"\"\"\n",
    "    torch.manual_seed(-1)\n",
    "    torch.cuda.manual_seed(0)\n",
    "    torch.cuda.manual_seed_all(0)"
   ]
  },
  {
   "cell_type": "markdown",
   "metadata": {},
   "source": [
    "## Графовый автоэнкодер (VAE) и Вариационный графовый автоэнкодер (VGAE)"
   ]
  },
  {
   "cell_type": "code",
   "execution_count": 2,
   "metadata": {
    "colab": {
     "base_uri": "https://localhost:8080/"
    },
    "id": "EgqVUSiulquq",
    "outputId": "96b273c1-9832-47e0-bde2-bc8d764c5e22"
   },
   "outputs": [
    {
     "name": "stderr",
     "output_type": "stream",
     "text": [
      "2024-01-17 17:12:26.936055: I tensorflow/core/platform/cpu_feature_guard.cc:193] This TensorFlow binary is optimized with oneAPI Deep Neural Network Library (oneDNN) to use the following CPU instructions in performance-critical operations:  AVX2 FMA\n",
      "To enable them in other operations, rebuild TensorFlow with the appropriate compiler flags.\n"
     ]
    }
   ],
   "source": [
    "import numpy as np\n",
    "import matplotlib.pyplot as plt\n",
    "import torch_geometric.transforms as T\n",
    "from torch_geometric.datasets import Planetoid\n",
    "\n",
    "device = torch.device('cuda' if torch.cuda.is_available() else 'cpu')\n",
    "\n",
    "set_seed()\n",
    "\n",
    "transform = T.Compose([\n",
    "    T.NormalizeFeatures(),\n",
    "    T.ToDevice(device),\n",
    "    T.RandomLinkSplit(num_val=0.05, \n",
    "                      num_test=0.1, \n",
    "                      is_undirected=True, \n",
    "                      split_labels=True, \n",
    "                      add_negative_train_samples=False)\n",
    "])\n",
    "\n",
    "dataset = Planetoid('.', name='Cora', transform=transform)\n",
    "\n",
    "train_data, val_data, test_data = dataset[0]"
   ]
  },
  {
   "cell_type": "code",
   "execution_count": 3,
   "metadata": {
    "id": "Hc0ZiEn1lqkq"
   },
   "outputs": [],
   "source": [
    "from torch_geometric.nn import GCNConv, VGAE\n",
    "\n",
    "class Encoder(torch.nn.Module):\n",
    "    def __init__(self, dim_in, dim_out):\n",
    "        super().__init__()\n",
    "        self.conv1 = GCNConv(dim_in, 2 * dim_out)\n",
    "        self.conv_mu = GCNConv(2 * dim_out, dim_out)\n",
    "        self.conv_logstd = GCNConv(2 * dim_out, dim_out)\n",
    "\n",
    "    def forward(self, x, edge_index):\n",
    "        x = self.conv1(x, edge_index).relu()\n",
    "        return self.conv_mu(x, edge_index), self.conv_logstd(x, edge_index)"
   ]
  },
  {
   "cell_type": "code",
   "execution_count": 4,
   "metadata": {
    "colab": {
     "base_uri": "https://localhost:8080/"
    },
    "id": "SaKaQxpYmC_5",
    "outputId": "4af5b67c-a3e5-4220-9ab9-29d3c2bed6fb"
   },
   "outputs": [
    {
     "name": "stdout",
     "output_type": "stream",
     "text": [
      "Эпоха  0:\n",
      "| Функция потерь: 3.5283 | AUC-ROC на валид. наборе 0.7082 | AP на валид. наборе: 0.7338%\n",
      "Эпоха 50:\n",
      "| Функция потерь: 1.3280 | AUC-ROC на валид. наборе 0.6889 | AP на валид. наборе: 0.7172%\n",
      "Эпоха 100:\n",
      "| Функция потерь: 1.2036 | AUC-ROC на валид. наборе 0.7246 | AP на валид. наборе: 0.7348%\n",
      "Эпоха 150:\n",
      "| Функция потерь: 1.0519 | AUC-ROC на валид. наборе 0.8147 | AP на валид. наборе: 0.8244%\n",
      "Эпоха 200:\n",
      "| Функция потерь: 0.9566 | AUC-ROC на валид. наборе 0.8625 | AP на валид. наборе: 0.8740%\n",
      "Эпоха 250:\n",
      "| Функция потерь: 0.9512 | AUC-ROC на валид. наборе 0.8679 | AP на валид. наборе: 0.8761%\n",
      "Эпоха 300:\n",
      "| Функция потерь: 0.9287 | AUC-ROC на валид. наборе 0.8751 | AP на валид. наборе: 0.8795%\n",
      "AUC-ROC на тестовом наборе: 0.8751 | AP на тестовом наборе 0.8795\n"
     ]
    }
   ],
   "source": [
    "model = VGAE(Encoder(dataset.num_features, 16)).to(device)\n",
    "optimizer = torch.optim.Adam(model.parameters(), lr=0.01)\n",
    "\n",
    "set_seed()\n",
    "\n",
    "def train():\n",
    "    model.train()\n",
    "    optimizer.zero_grad()\n",
    "    z = model.encode(train_data.x, train_data.edge_index)\n",
    "    loss = model.recon_loss(z, train_data.pos_edge_label_index) + (\n",
    "        1 / train_data.num_nodes) * model.kl_loss()\n",
    "    loss.backward()\n",
    "    optimizer.step()\n",
    "    return float(loss)\n",
    "\n",
    "@torch.no_grad()\n",
    "def test(data):\n",
    "    model.eval()\n",
    "    z = model.encode(data.x, data.edge_index)\n",
    "    return model.test(z, \n",
    "                      data.pos_edge_label_index, \n",
    "                      data.neg_edge_label_index)\n",
    "\n",
    "for epoch in range(301):\n",
    "    loss = train()\n",
    "    val_auc, val_ap = test(test_data)\n",
    "    if epoch % 50 == 0:\n",
    "        print(f'Эпоха {epoch:>2}:\\n| Функция потерь: {loss:.4f} | '\n",
    "              f'AUC-ROC на валид. наборе {val_auc:.4f} | '\n",
    "              f'AP на валид. наборе: {val_ap:.4f}%')\n",
    "\n",
    "test_auc, test_ap = test(test_data) \n",
    "print(f'AUC-ROC на тестовом наборе: {test_auc:.4f} | ' \n",
    "      f'AP на тестовом наборе {test_ap:.4f}')"
   ]
  },
  {
   "cell_type": "code",
   "execution_count": 5,
   "metadata": {},
   "outputs": [
    {
     "data": {
      "text/plain": [
       "tensor([[0.8203, 0.6496, 0.7584,  ..., 0.5449, 0.8411, 0.8268],\n",
       "        [0.6496, 0.8801, 0.8621,  ..., 0.4629, 0.8050, 0.7793],\n",
       "        [0.7584, 0.8621, 0.8831,  ..., 0.4940, 0.8652, 0.8438],\n",
       "        ...,\n",
       "        [0.5449, 0.4629, 0.4940,  ..., 0.5227, 0.5337, 0.5298],\n",
       "        [0.8411, 0.8050, 0.8652,  ..., 0.5337, 0.9043, 0.8854],\n",
       "        [0.8268, 0.7793, 0.8438,  ..., 0.5298, 0.8854, 0.8671]],\n",
       "       grad_fn=<SigmoidBackward0>)"
      ]
     },
     "execution_count": 5,
     "metadata": {},
     "output_type": "execute_result"
    }
   ],
   "source": [
    "z = model.encode(test_data.x, test_data.edge_index) \n",
    "Ahat = torch.sigmoid(z @ z.T)\n",
    "Ahat"
   ]
  },
  {
   "cell_type": "markdown",
   "metadata": {},
   "source": [
    "## SEAL"
   ]
  },
  {
   "cell_type": "code",
   "execution_count": 6,
   "metadata": {
    "colab": {
     "base_uri": "https://localhost:8080/"
    },
    "id": "tNNO18ePLd1W",
    "outputId": "c679fa31-3fbd-4971-c127-1079f13c9f04"
   },
   "outputs": [],
   "source": [
    "import numpy as np\n",
    "from sklearn.metrics import (roc_auc_score, \n",
    "                             average_precision_score)\n",
    "from scipy.sparse.csgraph import shortest_path\n",
    "\n",
    "import torch.nn.functional as F\n",
    "from torch.nn import (Conv1d, \n",
    "                      MaxPool1d, \n",
    "                      Linear,\n",
    "                      Dropout,\n",
    "                      BCEWithLogitsLoss)\n",
    "\n",
    "from torch_geometric.transforms import RandomLinkSplit\n",
    "from torch_geometric.data import Data\n",
    "from torch_geometric.loader import DataLoader\n",
    "from torch_geometric.nn import aggr\n",
    "from torch_geometric.utils import (k_hop_subgraph, \n",
    "                                   to_scipy_sparse_matrix)"
   ]
  },
  {
   "cell_type": "code",
   "execution_count": 7,
   "metadata": {
    "id": "XqlCeawwm0Pp"
   },
   "outputs": [
    {
     "data": {
      "text/plain": [
       "Data(x=[2708, 1433], edge_index=[2, 8976], y=[2708], train_mask=[2708], val_mask=[2708], test_mask=[2708], pos_edge_label=[4488], pos_edge_label_index=[2, 4488], neg_edge_label=[4488], neg_edge_label_index=[2, 4488])"
      ]
     },
     "execution_count": 7,
     "metadata": {},
     "output_type": "execute_result"
    }
   ],
   "source": [
    "set_seed()\n",
    "\n",
    "# загружаем набор данных Cora\n",
    "transform = RandomLinkSplit(num_val=0.05, \n",
    "                            num_test=0.1, \n",
    "                            is_undirected=True, \n",
    "                            split_labels=True)\n",
    "dataset = Planetoid('.', name='Cora', transform=transform)\n",
    "train_data, val_data, test_data = dataset[0]\n",
    "train_data"
   ]
  },
  {
   "cell_type": "code",
   "execution_count": 8,
   "metadata": {
    "id": "tCSfv3PSMQ-e"
   },
   "outputs": [],
   "source": [
    "def seal_processing(dataset, edge_label_index, y):\n",
    "    data_list = []\n",
    "\n",
    "    for src, dst in edge_label_index.t().tolist():\n",
    "        sub_nodes, sub_edge_index, mapping, _ = k_hop_subgraph(\n",
    "            [src, dst], 2, dataset.edge_index, relabel_nodes=True\n",
    "        )\n",
    "        src, dst = mapping.tolist()\n",
    "\n",
    "        # выполняем фильтрацию ребер в подграфе\n",
    "        mask1 = (sub_edge_index[0] != src) | (sub_edge_index[1] != dst)\n",
    "        mask2 = (sub_edge_index[0] != dst) | (sub_edge_index[1] != src)\n",
    "        sub_edge_index = sub_edge_index[:, mask1 & mask2]\n",
    "\n",
    "        # разметка узлов на основе двойного радиуса (DRNL)\n",
    "        src, dst = (dst, src) if src > dst else (src, dst)\n",
    "        adj = to_scipy_sparse_matrix(\n",
    "            sub_edge_index, num_nodes=sub_nodes.size(0)).tocsr()\n",
    "\n",
    "        idx = list(range(src)) + list(range(src + 1, adj.shape[0]))\n",
    "        adj_wo_src = adj[idx, :][:, idx]\n",
    "\n",
    "        idx = list(range(dst)) + list(range(dst + 1, adj.shape[0]))\n",
    "        adj_wo_dst = adj[idx, :][:, idx]\n",
    "\n",
    "        # вычисляем расстояние между каждым узлом и целевым узлом-источником\n",
    "        d_src = shortest_path(adj_wo_dst, directed=False, \n",
    "                              unweighted=True, indices=src)\n",
    "        d_src = np.insert(d_src, dst, 0, axis=0)\n",
    "        d_src = torch.from_numpy(d_src)\n",
    "\n",
    "        # вычисляем расстояние между каждым узлом и целевым узлом-отправлением\n",
    "        d_dst = shortest_path(adj_wo_src, directed=False, \n",
    "                              unweighted=True, indices=dst-1)\n",
    "        d_dst = np.insert(d_dst, src, 0, axis=0)\n",
    "        d_dst = torch.from_numpy(d_dst)\n",
    "\n",
    "        # вычисляем метку z для каждого узла\n",
    "        dist = d_src + d_dst\n",
    "        z = 1 + torch.min(d_src, d_dst) + dist // 2 * (dist // 2 + dist % 2 - 1)\n",
    "        z[src], z[dst], z[torch.isnan(z)] = 1., 1., 0.\n",
    "        z = z.to(torch.long)\n",
    "        \n",
    "        # конкатенируем признаки узлов и one-hot закодированные метки\n",
    "        # узлов (с фиксированным количеством классов)\n",
    "        node_labels = F.one_hot(z, num_classes=200).to(torch.float)\n",
    "        node_emb = dataset.x[sub_nodes]\n",
    "        node_x = torch.cat([node_emb, node_labels], dim=1)\n",
    "\n",
    "        # создаем объект Data\n",
    "        data = Data(x=node_x, z=z, edge_index=sub_edge_index, y=y)\n",
    "        data_list.append(data)\n",
    "\n",
    "    return data_list"
   ]
  },
  {
   "cell_type": "code",
   "execution_count": 9,
   "metadata": {
    "colab": {
     "base_uri": "https://localhost:8080/"
    },
    "id": "1iPBfn1LLip-",
    "outputId": "afe486e3-ab37-4c05-c56b-d12af68fbc0e"
   },
   "outputs": [],
   "source": [
    "# извлечение охватывающих подграфов\n",
    "train_pos_data_list = seal_processing(\n",
    "    train_data, train_data.pos_edge_label_index, 1)\n",
    "train_neg_data_list = seal_processing(\n",
    "    train_data, train_data.neg_edge_label_index, 0)\n",
    "\n",
    "val_pos_data_list = seal_processing(\n",
    "    val_data, val_data.pos_edge_label_index, 1)\n",
    "val_neg_data_list = seal_processing(\n",
    "    val_data, val_data.neg_edge_label_index, 0)\n",
    "\n",
    "test_pos_data_list = seal_processing(\n",
    "    test_data, test_data.pos_edge_label_index, 1)\n",
    "test_neg_data_list = seal_processing(\n",
    "    test_data, test_data.neg_edge_label_index, 0)"
   ]
  },
  {
   "cell_type": "code",
   "execution_count": 10,
   "metadata": {
    "id": "dU_P2-JlR55j"
   },
   "outputs": [],
   "source": [
    "train_dataset = train_pos_data_list + train_neg_data_list\n",
    "val_dataset = val_pos_data_list + val_neg_data_list\n",
    "test_dataset = test_pos_data_list + test_neg_data_list\n",
    "\n",
    "train_loader = DataLoader(train_dataset, batch_size=32, shuffle=True)\n",
    "val_loader = DataLoader(val_dataset, batch_size=32)\n",
    "test_loader = DataLoader(test_dataset, batch_size=32)"
   ]
  },
  {
   "cell_type": "code",
   "execution_count": 11,
   "metadata": {
    "id": "OyuODuSqP6iu"
   },
   "outputs": [],
   "source": [
    "class DGCNN(torch.nn.Module):\n",
    "    def __init__(self, dim_in, k=30):\n",
    "        super().__init__()\n",
    "\n",
    "        # GCN-слои\n",
    "        self.gcn1 = GCNConv(dim_in, 32)\n",
    "        self.gcn2 = GCNConv(32, 32)\n",
    "        self.gcn3 = GCNConv(32, 32)\n",
    "        self.gcn4 = GCNConv(32, 1)\n",
    "\n",
    "        # глобальный сортировочный пулинг\n",
    "        self.global_pool = aggr.SortAggregation(k=k)\n",
    "\n",
    "        # слои свертки\n",
    "        self.conv1 = Conv1d(1, 16, 97, 97)\n",
    "        self.conv2 = Conv1d(16, 32, 5, 1)\n",
    "        self.maxpool = MaxPool1d(2, 2)\n",
    "\n",
    "        # плотные слои\n",
    "        self.linear1 = Linear(352, 128)\n",
    "        self.dropout = Dropout(0.5)\n",
    "        self.linear2 = Linear(128, 1)\n",
    "\n",
    "    def forward(self, x, edge_index, batch):\n",
    "        # 1. слои графовой свертки\n",
    "        h1 = self.gcn1(x, edge_index).tanh()\n",
    "        h2 = self.gcn2(h1, edge_index).tanh()\n",
    "        h3 = self.gcn3(h2, edge_index).tanh()\n",
    "        h4 = self.gcn4(h3, edge_index).tanh()\n",
    "        h = torch.cat([h1, h2, h3, h4], dim=-1)\n",
    "\n",
    "        # 2. глобальный сортировочный пулинг\n",
    "        h = self.global_pool(h, batch)\n",
    "\n",
    "        # 3. традиционные слои свертки и плотные слои\n",
    "        h = h.view(h.size(0), 1, h.size(-1))\n",
    "        h = self.conv1(h).relu()\n",
    "        h = self.maxpool(h)\n",
    "        h = self.conv2(h).relu()\n",
    "        h = h.view(h.size(0), -1)\n",
    "        h = self.linear1(h).relu()\n",
    "        h = self.dropout(h)\n",
    "        h = self.linear2(h).sigmoid()\n",
    "\n",
    "        return h"
   ]
  },
  {
   "cell_type": "code",
   "execution_count": 12,
   "metadata": {
    "colab": {
     "base_uri": "https://localhost:8080/",
     "height": 648
    },
    "id": "kcivDBP4PjDx",
    "outputId": "d733477a-0263-403d-fd1a-6ee3ec8950be"
   },
   "outputs": [
    {
     "name": "stdout",
     "output_type": "stream",
     "text": [
      "Эпоха  0:\n",
      "| Функция потерь: 0.6996 | AUC-ROC на валид. наборе 0.7970 | AP на валид. наборе: 0.8178%\n",
      "Эпоха  1:\n",
      "| Функция потерь: 0.6240 | AUC-ROC на валид. наборе 0.8438 | AP на валид. наборе: 0.8706%\n",
      "Эпоха  2:\n",
      "| Функция потерь: 0.5889 | AUC-ROC на валид. наборе 0.8526 | AP на валид. наборе: 0.8818%\n",
      "Эпоха  3:\n",
      "| Функция потерь: 0.5811 | AUC-ROC на валид. наборе 0.8637 | AP на валид. наборе: 0.8908%\n",
      "Эпоха  4:\n",
      "| Функция потерь: 0.5765 | AUC-ROC на валид. наборе 0.8681 | AP на валид. наборе: 0.8956%\n",
      "Эпоха  5:\n",
      "| Функция потерь: 0.5731 | AUC-ROC на валид. наборе 0.8710 | AP на валид. наборе: 0.8971%\n",
      "Эпоха  6:\n",
      "| Функция потерь: 0.5697 | AUC-ROC на валид. наборе 0.8718 | AP на валид. наборе: 0.8936%\n",
      "Эпоха  7:\n",
      "| Функция потерь: 0.5672 | AUC-ROC на валид. наборе 0.8729 | AP на валид. наборе: 0.8937%\n",
      "Эпоха  8:\n",
      "| Функция потерь: 0.5646 | AUC-ROC на валид. наборе 0.8799 | AP на валид. наборе: 0.8921%\n",
      "Эпоха  9:\n",
      "| Функция потерь: 0.5601 | AUC-ROC на валид. наборе 0.8832 | AP на валид. наборе: 0.8936%\n",
      "Эпоха 10:\n",
      "| Функция потерь: 0.5576 | AUC-ROC на валид. наборе 0.8790 | AP на валид. наборе: 0.8870%\n",
      "Эпоха 11:\n",
      "| Функция потерь: 0.5541 | AUC-ROC на валид. наборе 0.8776 | AP на валид. наборе: 0.8875%\n",
      "Эпоха 12:\n",
      "| Функция потерь: 0.5513 | AUC-ROC на валид. наборе 0.8744 | AP на валид. наборе: 0.8866%\n",
      "Эпоха 13:\n",
      "| Функция потерь: 0.5496 | AUC-ROC на валид. наборе 0.8788 | AP на валид. наборе: 0.8886%\n",
      "Эпоха 14:\n",
      "| Функция потерь: 0.5485 | AUC-ROC на валид. наборе 0.8737 | AP на валид. наборе: 0.8868%\n",
      "Эпоха 15:\n",
      "| Функция потерь: 0.5478 | AUC-ROC на валид. наборе 0.8740 | AP на валид. наборе: 0.8861%\n",
      "Эпоха 16:\n",
      "| Функция потерь: 0.5472 | AUC-ROC на валид. наборе 0.8740 | AP на валид. наборе: 0.8863%\n",
      "Эпоха 17:\n",
      "| Функция потерь: 0.5468 | AUC-ROC на валид. наборе 0.8701 | AP на валид. наборе: 0.8788%\n",
      "Эпоха 18:\n",
      "| Функция потерь: 0.5456 | AUC-ROC на валид. наборе 0.8690 | AP на валид. наборе: 0.8788%\n",
      "Эпоха 19:\n",
      "| Функция потерь: 0.5469 | AUC-ROC на валид. наборе 0.8689 | AP на валид. наборе: 0.8786%\n",
      "Эпоха 20:\n",
      "| Функция потерь: 0.5453 | AUC-ROC на валид. наборе 0.8645 | AP на валид. наборе: 0.8763%\n",
      "Эпоха 21:\n",
      "| Функция потерь: 0.5450 | AUC-ROC на валид. наборе 0.8683 | AP на валид. наборе: 0.8784%\n",
      "Эпоха 22:\n",
      "| Функция потерь: 0.5454 | AUC-ROC на валид. наборе 0.8632 | AP на валид. наборе: 0.8720%\n",
      "Эпоха 23:\n",
      "| Функция потерь: 0.5446 | AUC-ROC на валид. наборе 0.8654 | AP на валид. наборе: 0.8750%\n",
      "Эпоха 24:\n",
      "| Функция потерь: 0.5453 | AUC-ROC на валид. наборе 0.8648 | AP на валид. наборе: 0.8742%\n",
      "Эпоха 25:\n",
      "| Функция потерь: 0.5444 | AUC-ROC на валид. наборе 0.8640 | AP на валид. наборе: 0.8762%\n",
      "Эпоха 26:\n",
      "| Функция потерь: 0.5445 | AUC-ROC на валид. наборе 0.8684 | AP на валид. наборе: 0.8790%\n",
      "Эпоха 27:\n",
      "| Функция потерь: 0.5444 | AUC-ROC на валид. наборе 0.8652 | AP на валид. наборе: 0.8738%\n",
      "Эпоха 28:\n",
      "| Функция потерь: 0.5434 | AUC-ROC на валид. наборе 0.8673 | AP на валид. наборе: 0.8778%\n",
      "Эпоха 29:\n",
      "| Функция потерь: 0.5441 | AUC-ROC на валид. наборе 0.8668 | AP на валид. наборе: 0.8757%\n",
      "Эпоха 30:\n",
      "| Функция потерь: 0.5438 | AUC-ROC на валид. наборе 0.8664 | AP на валид. наборе: 0.8722%\n",
      "AUC-ROC на тестовом наборе: 0.8487 | AP на тестовом наборе 0.8505\n"
     ]
    }
   ],
   "source": [
    "device = torch.device('cuda' if torch.cuda.is_available() else 'cpu')\n",
    "model = DGCNN(train_dataset[0].num_features).to(device)\n",
    "optimizer = torch.optim.Adam(params=model.parameters(), lr=0.0001)\n",
    "criterion = BCEWithLogitsLoss()\n",
    "\n",
    "set_seed()\n",
    "\n",
    "def train():\n",
    "    model.train()\n",
    "    total_loss = 0\n",
    "\n",
    "    for data in train_loader:\n",
    "        data = data.to(device)\n",
    "        optimizer.zero_grad()\n",
    "        out = model(data.x, data.edge_index, data.batch)\n",
    "        loss = criterion(out.view(-1), data.y.to(torch.float))\n",
    "        loss.backward()\n",
    "        optimizer.step()\n",
    "        total_loss += float(loss) * data.num_graphs\n",
    "\n",
    "    return total_loss / len(train_dataset)\n",
    "\n",
    "@torch.no_grad()\n",
    "def test(loader):\n",
    "    model.eval()\n",
    "    y_pred, y_true = [], []\n",
    "\n",
    "    for data in loader:\n",
    "        data = data.to(device)\n",
    "        out = model(data.x, data.edge_index, data.batch)\n",
    "        y_pred.append(out.view(-1).cpu())\n",
    "        y_true.append(data.y.view(-1).cpu().to(torch.float))\n",
    "\n",
    "    auc = roc_auc_score(torch.cat(y_true), torch.cat(y_pred))\n",
    "    ap = average_precision_score(torch.cat(y_true), torch.cat(y_pred))\n",
    "\n",
    "    return auc, ap\n",
    "\n",
    "for epoch in range(31):\n",
    "    loss = train()\n",
    "    val_auc, val_ap = test(val_loader)\n",
    "    print(f'Эпоха {epoch:>2}:\\n| Функция потерь: {loss:.4f} | '\n",
    "          f'AUC-ROC на валид. наборе {val_auc:.4f} | '\n",
    "          f'AP на валид. наборе: {val_ap:.4f}%')\n",
    "\n",
    "test_auc, test_ap = test(test_loader)\n",
    "print(f'AUC-ROC на тестовом наборе: {test_auc:.4f} | ' \n",
    "      f'AP на тестовом наборе {test_ap:.4f}')"
   ]
  },
  {
   "cell_type": "code",
   "execution_count": null,
   "metadata": {},
   "outputs": [],
   "source": []
  }
 ],
 "metadata": {
  "colab": {
   "provenance": []
  },
  "kernelspec": {
   "display_name": "Python 3 (ipykernel)",
   "language": "python",
   "name": "python3"
  },
  "language_info": {
   "codemirror_mode": {
    "name": "ipython",
    "version": 3
   },
   "file_extension": ".py",
   "mimetype": "text/x-python",
   "name": "python",
   "nbconvert_exporter": "python",
   "pygments_lexer": "ipython3",
   "version": "3.10.9"
  },
  "vscode": {
   "interpreter": {
    "hash": "3556630122da5213751af4465d61fcf5a52cd22515d400aee51118aaa1721248"
   }
  }
 },
 "nbformat": 4,
 "nbformat_minor": 1
}
